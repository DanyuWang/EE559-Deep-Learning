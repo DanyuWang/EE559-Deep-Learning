{
 "cells": [
  {
   "cell_type": "markdown",
   "metadata": {},
   "source": [
    "## Practice 1"
   ]
  },
  {
   "cell_type": "markdown",
   "metadata": {},
   "source": [
    "### Q1 Multiple views of a storage"
   ]
  },
  {
   "cell_type": "code",
   "execution_count": 1,
   "metadata": {},
   "outputs": [],
   "source": [
    "import time\n",
    "import torch"
   ]
  },
  {
   "cell_type": "code",
   "execution_count": 2,
   "metadata": {},
   "outputs": [],
   "source": [
    "m = torch.full((13, 13), 1.0, dtype = torch.int8)"
   ]
  },
  {
   "cell_type": "code",
   "execution_count": 4,
   "metadata": {},
   "outputs": [],
   "source": [
    "m[:, 1::5] = 2\n",
    "m[1::5, :] = 2"
   ]
  },
  {
   "cell_type": "code",
   "execution_count": 5,
   "metadata": {},
   "outputs": [],
   "source": [
    "m[3:5, 3:5] = 3\n",
    "m[8:10, 3:5] = 3\n",
    "m[3:5, 8:10] = 3\n",
    "m[8:10, 8:10] = 3"
   ]
  },
  {
   "cell_type": "code",
   "execution_count": 6,
   "metadata": {},
   "outputs": [
    {
     "data": {
      "text/plain": [
       "tensor([[1, 2, 1, 1, 1, 1, 2, 1, 1, 1, 1, 2, 1],\n",
       "        [2, 2, 2, 2, 2, 2, 2, 2, 2, 2, 2, 2, 2],\n",
       "        [1, 2, 1, 1, 1, 1, 2, 1, 1, 1, 1, 2, 1],\n",
       "        [1, 2, 1, 3, 3, 1, 2, 1, 3, 3, 1, 2, 1],\n",
       "        [1, 2, 1, 3, 3, 1, 2, 1, 3, 3, 1, 2, 1],\n",
       "        [1, 2, 1, 1, 1, 1, 2, 1, 1, 1, 1, 2, 1],\n",
       "        [2, 2, 2, 2, 2, 2, 2, 2, 2, 2, 2, 2, 2],\n",
       "        [1, 2, 1, 1, 1, 1, 2, 1, 1, 1, 1, 2, 1],\n",
       "        [1, 2, 1, 3, 3, 1, 2, 1, 3, 3, 1, 2, 1],\n",
       "        [1, 2, 1, 3, 3, 1, 2, 1, 3, 3, 1, 2, 1],\n",
       "        [1, 2, 1, 1, 1, 1, 2, 1, 1, 1, 1, 2, 1],\n",
       "        [2, 2, 2, 2, 2, 2, 2, 2, 2, 2, 2, 2, 2],\n",
       "        [1, 2, 1, 1, 1, 1, 2, 1, 1, 1, 1, 2, 1]], dtype=torch.int8)"
      ]
     },
     "execution_count": 6,
     "metadata": {},
     "output_type": "execute_result"
    }
   ],
   "source": [
    "m"
   ]
  },
  {
   "cell_type": "markdown",
   "metadata": {},
   "source": [
    "### Q2 Eigendecomposition"
   ]
  },
  {
   "cell_type": "code",
   "execution_count": 11,
   "metadata": {},
   "outputs": [],
   "source": [
    "m = torch.empty(20,20).normal_()\n",
    "d = torch.diag(torch.arange(1, m.size(0)+1).float())\n",
    "q = m.mm(d).mm(m.inverse())\n",
    "v, _ = q.eig()"
   ]
  },
  {
   "cell_type": "code",
   "execution_count": 12,
   "metadata": {},
   "outputs": [
    {
     "data": {
      "text/plain": [
       "tensor([ 1.0000,  2.0000,  3.0000,  4.0000,  5.0000,  6.0000,  7.0000,  8.0000,\n",
       "         9.0000, 10.0000, 11.0000, 12.0000, 13.0000, 14.0000, 15.0000, 16.0000,\n",
       "        17.0000, 18.0000, 19.0000, 20.0000])"
      ]
     },
     "execution_count": 12,
     "metadata": {},
     "output_type": "execute_result"
    }
   ],
   "source": [
    "v[:, 0].sort()[0]"
   ]
  },
  {
   "cell_type": "markdown",
   "metadata": {},
   "source": [
    "### Q3 Flops per second"
   ]
  },
  {
   "cell_type": "code",
   "execution_count": 13,
   "metadata": {},
   "outputs": [
    {
     "name": "stdout",
     "output_type": "stream",
     "text": [
      "Throughput 5.683795e+10 flop/s\n"
     ]
    }
   ],
   "source": [
    "d = 5000\n",
    "a = torch.empty(d, d).normal_()\n",
    "a = a.t() @ a.inverse()\n",
    "\n",
    "b = torch.empty(d, d).normal_()\n",
    "\n",
    "time1 = time.perf_counter()\n",
    "c = torch.mm(a, b)\n",
    "time2 = time.perf_counter()\n",
    "\n",
    "print('Throughput {:e} flop/s'.format((d * d * d)/(time2 - time1)))"
   ]
  },
  {
   "cell_type": "markdown",
   "metadata": {},
   "source": [
    "### Q4 Playing with strides"
   ]
  },
  {
   "cell_type": "code",
   "execution_count": 16,
   "metadata": {},
   "outputs": [],
   "source": [
    "def mul_row(m):\n",
    "    r = torch.torch.empty(m.size()) # new one \n",
    "    for i in range(m.size(0)):\n",
    "        for j in range(m.size(1)):\n",
    "            r[i, j] = r[i, j] * (i+1)\n",
    "    return r\n",
    "\n",
    "def mul_row_fast(m):\n",
    "    c = torch.arange(1, m.size(0) + 1).view(-1, 1).float()\n",
    "    return m.mul(c)"
   ]
  },
  {
   "cell_type": "code",
   "execution_count": 17,
   "metadata": {},
   "outputs": [
    {
     "name": "stdout",
     "output_type": "stream",
     "text": [
      "Speed ratio 787.9666311083336\n",
      "Sanity check: error is  516739.46875\n"
     ]
    }
   ],
   "source": [
    "m = torch.empty(1000, 400).normal_()\n",
    "\n",
    "time1 = time.perf_counter()\n",
    "a = mul_row(m)\n",
    "time2 = time.perf_counter()\n",
    "b = mul_row_fast(m)\n",
    "time3 = time.perf_counter()\n",
    "\n",
    "print('Speed ratio', (time2 - time1) / (time3 - time2))\n",
    "\n",
    "print('Sanity check: error is ', torch.norm(a - b).item())"
   ]
  },
  {
   "cell_type": "code",
   "execution_count": null,
   "metadata": {},
   "outputs": [],
   "source": []
  }
 ],
 "metadata": {
  "kernelspec": {
   "display_name": "Python 3",
   "language": "python",
   "name": "python3"
  },
  "language_info": {
   "codemirror_mode": {
    "name": "ipython",
    "version": 3
   },
   "file_extension": ".py",
   "mimetype": "text/x-python",
   "name": "python",
   "nbconvert_exporter": "python",
   "pygments_lexer": "ipython3",
   "version": "3.7.3"
  }
 },
 "nbformat": 4,
 "nbformat_minor": 2
}
